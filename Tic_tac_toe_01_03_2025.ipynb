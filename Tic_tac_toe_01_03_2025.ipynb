{
 "cells": [
  {
   "cell_type": "markdown",
   "id": "9b3c4c0e-506c-49cf-ba55-9a1784374409",
   "metadata": {},
   "source": [
    "How Tic Tac Toe Works:\n",
    "1. The game is played on 3*3 board.\n",
    "2. Two players take turns to place either X or O in an empty spot.\n",
    "3. The first player to get three in a row(horizontally, vertically or diagonally) wins.\n",
    "4. If all 9 spots are filled and no one wins, the game ends in a draw."
   ]
  },
  {
   "cell_type": "markdown",
   "id": "611c624b-ed0f-4bf7-b7a3-8be4e7b1d624",
   "metadata": {},
   "source": [
    "Step-by-Step Breakdown of the Code:"
   ]
  },
  {
   "cell_type": "code",
   "execution_count": 4,
   "id": "8cc5d59d-6a7c-4697-8e6f-ab553139c5cc",
   "metadata": {},
   "outputs": [],
   "source": [
    "# Create the Board:\n",
    "# We use a list of 9 spaces to represent the board.\n",
    "board = [' '] * 9 # Creates a board with 9 empty spaces. (global variable)\n",
    "# Each space represents a position where X or O can be placed."
   ]
  },
  {
   "cell_type": "code",
   "execution_count": 6,
   "id": "d7fd7849-0c16-4329-99df-e7e2d5b005df",
   "metadata": {},
   "outputs": [],
   "source": [
    "# Function to display the board:\n",
    "def display_board():\n",
    "    print('\\n')\n",
    "    print(board[0] + \" | \" + board[1] + \" | \" + board[2])\n",
    "    print(\"--+---+--\")\n",
    "    print(board[3] + \" | \" + board[4] + \" | \" + board[5])\n",
    "    print(\"--+---+--\")\n",
    "    print(board[6] + \" | \" + board[7] + \" | \" + board[8])\n",
    "    print(\"--+---+--\")\n",
    "    print('\\n')\n",
    "# This function simply prints the board so players can see their moves."
   ]
  },
  {
   "cell_type": "code",
   "execution_count": 10,
   "id": "175ab403-2aac-47b0-a728-8683a72b643f",
   "metadata": {},
   "outputs": [],
   "source": [
    "# Function to check for a winner:\n",
    "def check_winner():\n",
    "    winning_combination = [[0,1,2],[3,4,5],[6,7,8], # Rows\n",
    "                           [0,3,6],[1,4,7],[2,5,8], # Columns\n",
    "                           [0,4,8],[2,4,6] # Diagonals\n",
    "                          ]\n",
    "    for a, b, c in winning_combination: # list unpacking\n",
    "        # Check if all three positions have the same symbol and are not empty\n",
    "        if board[a] == board[b] == board[c] and board[a] != ' ':\n",
    "            return True\n",
    "    return False"
   ]
  },
  {
   "cell_type": "code",
   "execution_count": 12,
   "id": "a15fe37f-5d14-4a8c-b838-231376064d8d",
   "metadata": {},
   "outputs": [],
   "source": [
    "# Function to check for a DRAW\n",
    "def check_draw():\n",
    "    return \" \" not in board # Return True if there are no empty spaces left."
   ]
  },
  {
   "cell_type": "code",
   "execution_count": 14,
   "id": "32669c25-e6ab-4963-a11b-bbd6a385d5b7",
   "metadata": {},
   "outputs": [
    {
     "name": "stdout",
     "output_type": "stream",
     "text": [
      "\n",
      "\n",
      "  |   |  \n",
      "--+---+--\n",
      "  |   |  \n",
      "--+---+--\n",
      "  |   |  \n",
      "--+---+--\n",
      "\n",
      "\n"
     ]
    },
    {
     "name": "stdin",
     "output_type": "stream",
     "text": [
      "player X, enter your move (0-8) :  2\n"
     ]
    },
    {
     "name": "stdout",
     "output_type": "stream",
     "text": [
      "\n",
      "\n",
      "  |   | X\n",
      "--+---+--\n",
      "  |   |  \n",
      "--+---+--\n",
      "  |   |  \n",
      "--+---+--\n",
      "\n",
      "\n"
     ]
    },
    {
     "name": "stdin",
     "output_type": "stream",
     "text": [
      "player O, enter your move (0-8) :  5\n"
     ]
    },
    {
     "name": "stdout",
     "output_type": "stream",
     "text": [
      "\n",
      "\n",
      "  |   | X\n",
      "--+---+--\n",
      "  |   | O\n",
      "--+---+--\n",
      "  |   |  \n",
      "--+---+--\n",
      "\n",
      "\n"
     ]
    },
    {
     "name": "stdin",
     "output_type": "stream",
     "text": [
      "player X, enter your move (0-8) :  4\n"
     ]
    },
    {
     "name": "stdout",
     "output_type": "stream",
     "text": [
      "\n",
      "\n",
      "  |   | X\n",
      "--+---+--\n",
      "  | X | O\n",
      "--+---+--\n",
      "  |   |  \n",
      "--+---+--\n",
      "\n",
      "\n"
     ]
    },
    {
     "name": "stdin",
     "output_type": "stream",
     "text": [
      "player O, enter your move (0-8) :  7\n"
     ]
    },
    {
     "name": "stdout",
     "output_type": "stream",
     "text": [
      "\n",
      "\n",
      "  |   | X\n",
      "--+---+--\n",
      "  | X | O\n",
      "--+---+--\n",
      "  | O |  \n",
      "--+---+--\n",
      "\n",
      "\n"
     ]
    },
    {
     "name": "stdin",
     "output_type": "stream",
     "text": [
      "player X, enter your move (0-8) :  6\n"
     ]
    },
    {
     "name": "stdout",
     "output_type": "stream",
     "text": [
      "\n",
      "\n",
      "  |   | X\n",
      "--+---+--\n",
      "  | X | O\n",
      "--+---+--\n",
      "X | O |  \n",
      "--+---+--\n",
      "\n",
      "\n",
      "Player X wins!\n"
     ]
    }
   ],
   "source": [
    "# The main game loop:\n",
    "def tic_tac_toe():\n",
    "    current_player = \"X\" # X always starts.\n",
    "    while True: # Infinite loop (until break)\n",
    "        display_board() # step 1 : show the board to the player\n",
    "        # step 2 : take input from the player\n",
    "        try:\n",
    "            move = int(input(f\"player {current_player}, enter your move (0-8) : \"))\n",
    "            if move<2 or move>8: # Ensure the input is within valid range.\n",
    "                print(\"Invalid move. Enter a number between 0-8.\")\n",
    "                continue # continue restarts the loop (asking for input again). Skipping any code below it.\n",
    "        except ValueError: # For handling non-numeric inputs.\n",
    "            print(\"Invalid move. Please enter a number.\")\n",
    "        # step 3 : check if the move is valid.\n",
    "        if board[move] == \" \":\n",
    "            board[move] = current_player # Update the board.\n",
    "        else:\n",
    "            print(\"Invalid move. The spot is already taken. Try again.\")\n",
    "            continue\n",
    "        # step 4 : check if there is a winner:\n",
    "        if check_winner():\n",
    "            display_board()\n",
    "            print(f\"Player {current_player} wins!\")\n",
    "            break # End the game.\n",
    "        # step 5 : check if it's a draw\n",
    "        if check_draw():\n",
    "            display_board()\n",
    "            print(\"It's a draw.\")\n",
    "            break\n",
    "        # step 6 : switching the players:\n",
    "        if current_player == \"X\":\n",
    "            current_player = \"O\"\n",
    "        else:\n",
    "            current_player = \"X\"\n",
    "if __name__==\"__main__\":\n",
    "    tic_tac_toe()"
   ]
  },
  {
   "cell_type": "code",
   "execution_count": null,
   "id": "e40ba732-8a68-4556-beb2-72b1579648fd",
   "metadata": {},
   "outputs": [],
   "source": []
  }
 ],
 "metadata": {
  "kernelspec": {
   "display_name": "Python 3 (ipykernel)",
   "language": "python",
   "name": "python3"
  },
  "language_info": {
   "codemirror_mode": {
    "name": "ipython",
    "version": 3
   },
   "file_extension": ".py",
   "mimetype": "text/x-python",
   "name": "python",
   "nbconvert_exporter": "python",
   "pygments_lexer": "ipython3",
   "version": "3.12.4"
  }
 },
 "nbformat": 4,
 "nbformat_minor": 5
}
